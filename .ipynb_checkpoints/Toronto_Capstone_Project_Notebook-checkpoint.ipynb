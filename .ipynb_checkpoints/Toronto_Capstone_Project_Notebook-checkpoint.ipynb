{
 "cells": [
  {
   "cell_type": "markdown",
   "metadata": {},
   "source": [
    "# AIRBNB DATA ANALYSIS FOR TORONTO/CANADA"
   ]
  },
  {
   "cell_type": "code",
   "execution_count": 7,
   "metadata": {},
   "outputs": [],
   "source": [
    "# IMPORTING LIBRARIES\n",
    "import pandas as pd\n",
    "import numpy as np\n",
    "import matplotlib.pyplot as plt\n",
    "import seaborn as sns\n",
    "%matplotlib inline"
   ]
  },
  {
   "cell_type": "markdown",
   "metadata": {},
   "source": [
    "### BUSINESS UNDERSTANDING"
   ]
  },
  {
   "cell_type": "markdown",
   "metadata": {},
   "source": [
    "\n",
    "\n",
    "Our exploration will focus on the 2019 Airbnb Toronto dataset obtained from Inside Airbnb (URL: http://insideairbnb.com/get-the-data.html). \n",
    "This dataset provides valuable insights related to prices, neighbourhoods, availability, and room types in the city.\n",
    "\n",
    "People come to Toronto for various reasons - study, work, or simply travel. Each of these groups is searching for a suitable place to stay, \n",
    "be it for the short or long term. In this analysis, we aim to provide an extensive understanding of Airbnb rental options in Toronto\n",
    "to aid people in making an informed decision.\n",
    "\n",
    "\n"
   ]
  },
  {
   "cell_type": "code",
   "execution_count": 8,
   "metadata": {},
   "outputs": [],
   "source": [
    "# LOADING DATASETS"
   ]
  },
  {
   "cell_type": "code",
   "execution_count": 9,
   "metadata": {},
   "outputs": [],
   "source": [
    "listing=pd.read_csv('data/listings.csv')\n",
    "neighbourhoods=pd.read_csv('data/neighbourhoods.csv')"
   ]
  },
  {
   "cell_type": "markdown",
   "metadata": {},
   "source": [
    "### KEY QUESTIONS TO ANALYZE:"
   ]
  },
  {
   "cell_type": "markdown",
   "metadata": {},
   "source": [
    "\n",
    "1) What districts offer the most diverse styles of houses, indicating the clusters of Airbnb guests? \n",
    "\n",
    "2) Which districts are the most popular among users? \n",
    "\n",
    "3) How does the city map look when divided by districts?\n",
    "Can we determine locations in the two most popular districts with the most reviews and those that are cheaper than the rest? \n",
    "\n",
    "4) How is the distribution of room types across different districts? \n",
    "\n",
    "5) Can we analyze the mean prices according to room types district by district? \n",
    "\n",
    "6) What are the most expensive and popular months for Airbnb rentals?\n",
    "\n",
    "With these questions in mind, let's proceed with loading our datasets.\n",
    "\n"
   ]
  },
  {
   "cell_type": "markdown",
   "metadata": {},
   "source": [
    "### DEFINE THE NEIGHNORHOOD GROUPS AS DICTIONARIES"
   ]
  },
  {
   "cell_type": "markdown",
   "metadata": {},
   "source": [
    "#### Since the neighborhoods data is missing in the dataset, I found all the information using wikipedia\n",
    "#### The neighborhoods data needed to be define manually. So, the best way to do is using dictionary."
   ]
  },
  {
   "cell_type": "code",
   "execution_count": 10,
   "metadata": {},
   "outputs": [
    {
     "data": {
      "text/html": [
       "<div>\n",
       "<style scoped>\n",
       "    .dataframe tbody tr th:only-of-type {\n",
       "        vertical-align: middle;\n",
       "    }\n",
       "\n",
       "    .dataframe tbody tr th {\n",
       "        vertical-align: top;\n",
       "    }\n",
       "\n",
       "    .dataframe thead th {\n",
       "        text-align: right;\n",
       "    }\n",
       "</style>\n",
       "<table border=\"1\" class=\"dataframe\">\n",
       "  <thead>\n",
       "    <tr style=\"text-align: right;\">\n",
       "      <th></th>\n",
       "      <th>neighbourhood_group</th>\n",
       "      <th>neighbourhood</th>\n",
       "    </tr>\n",
       "  </thead>\n",
       "  <tbody>\n",
       "    <tr>\n",
       "      <th>0</th>\n",
       "      <td>NaN</td>\n",
       "      <td>Agincourt North</td>\n",
       "    </tr>\n",
       "    <tr>\n",
       "      <th>1</th>\n",
       "      <td>NaN</td>\n",
       "      <td>Agincourt South-Malvern West</td>\n",
       "    </tr>\n",
       "    <tr>\n",
       "      <th>2</th>\n",
       "      <td>NaN</td>\n",
       "      <td>Alderwood</td>\n",
       "    </tr>\n",
       "    <tr>\n",
       "      <th>3</th>\n",
       "      <td>NaN</td>\n",
       "      <td>Annex</td>\n",
       "    </tr>\n",
       "    <tr>\n",
       "      <th>4</th>\n",
       "      <td>NaN</td>\n",
       "      <td>Banbury-Don Mills</td>\n",
       "    </tr>\n",
       "  </tbody>\n",
       "</table>\n",
       "</div>"
      ],
      "text/plain": [
       "   neighbourhood_group                 neighbourhood\n",
       "0                  NaN               Agincourt North\n",
       "1                  NaN  Agincourt South-Malvern West\n",
       "2                  NaN                     Alderwood\n",
       "3                  NaN                         Annex\n",
       "4                  NaN             Banbury-Don Mills"
      ]
     },
     "execution_count": 10,
     "metadata": {},
     "output_type": "execute_result"
    }
   ],
   "source": [
    "neighbourhoods.head()"
   ]
  },
  {
   "cell_type": "code",
   "execution_count": 11,
   "metadata": {},
   "outputs": [],
   "source": [
    "\n",
    "neighbourhood_groups = {\n",
    "    'Downtown Core': [\n",
    "        'Alexandra Park', 'Annex', 'Baldwin Village', 'Cabbagetown', 'CityPlace', 'Chinatown', \n",
    "        'Church and Wellesley', 'Corktown', 'Discovery District', 'Distillery District', \n",
    "        'The Entertainment District', 'East Bayfront', 'Fashion District', 'Financial District','Garden District',\n",
    "        'Grange Park','Harbord Village','Harbourfront','Kensington Market','Little Japan','Moss Park','Old Town',\n",
    "        'Quayside','Queen Street West','Regent Park','South Core','St. James Town','St. Lawrence','Toronto Islands',\n",
    "        'Trefann Court','University (includes Huron–Sussex)','Yorkville',\n",
    "        'Waterfront Communities-The Island',\n",
    "        'Church-Yonge Corridor','Kensington-Chinatown','Cabbagetown-South St.James Town','University',\n",
    "        'North St.James Town'\n",
    "    ],\n",
    "    'East End': [\n",
    "        'The Beaches', 'The Beach', 'East Chinatown', 'East Danforth', 'Gerrard Street East',\n",
    "        'Gerrard India Bazaar', 'Little India', 'Greektown', 'Danforth',\n",
    "'Leslieville','Main Square','Playter Estates','Port Lands', 'Villiers Island','Riverdale','Upper Beaches',\n",
    "'Bay Street Corridor','Woodbine Corridor','South Riverdale','East Riverdale','Danforth East York',\n",
    "'Playter Estates-Danforth','North Riverdale','Blake-Jones','East End-Danforth'\n",
    "    ],\n",
    "    'North End': [\n",
    "        'Bedford Park', 'Casa Loma', 'Chaplin Estates', 'Davisville Village', 'Deer Park', 'Yonge', 'St. Clair',\n",
    "        'Forest Hill', 'Forest Hill Village', 'Upper Village', 'Lawrence Park', 'Lytton Park', 'Midtown', \n",
    "        'Moore Park', 'North Toronto', 'Rosedale', 'South Hill', 'Rathnelly', 'Summerhill', 'Uptown', \n",
    "        'Wanless Park', 'Wychwood Park', 'Yonge–Eglinton', 'Midtown Toronto',\n",
    "'Rosedale-Moore Park','Yonge–Eglinton','Wychwood Park','Wychwood Park','Mount Pleasant West',\n",
    "'Mount Pleasant East','Lawrence Park South','Lawrence Park North','Forest Hill South','Forest Hill North',\n",
    "'Wychwood','Bedford Park-Nortown'\n",
    "    ],\n",
    "    'West End': [\n",
    "        'Beaconsfield Village', 'Bloor West Village', 'Bracondale Hill', 'Brockton Village', 'Carleton Village',\n",
    "        'Corso Italia', 'Davenport', 'Dovercourt Park', 'Dufferin Grove', 'Earlscourt', 'Fort York', 'High Park',\n",
    "'The Junction', 'West Toronto', 'Dundas Street', 'Little Malta','Junction Triangle',\n",
    "'Koreatown','Liberty Village','Little Italy','Little Portugal','Little Tibet','Mirvish Village',\n",
    "'Niagara','Palmerston','Parkdale','Queen Street West','Regal Heights',\n",
    "'Roncesvalles','Runnymede','Seaton Village','Swansea','Trinity–Bellwoods','Wallace Emerson',\n",
    "'South Parkdale','Palmerston-Little Italy',\n",
    "'Dovercourt-Wallace Emerson-Junction','Corso Italia-Davenport','High Park-Swansea','Trinity-Bellwoods',\n",
    "'Weston-Pellam Park','Runnymede-Bloor West Village','Junction Area'\n",
    "    ],\n",
    "    'East York': [\n",
    "        'Broadview North', 'Crescent Town', 'East Danforth', 'Pape Village', 'Woodbine Heights', \n",
    "        'Bermondsey', 'Governor s Bridge', 'Leaside', 'O Connor–Parkview', 'Thorncliffe Park',\n",
    "        'Greenwood-Coxwell', 'Woodbine Heights', 'Woodbine-Lumsden', 'Taylor-Massey', 'Old East York',\n",
    "        \"O'Connor-Parkview\",'Leaside-Bennington'\n",
    "    ],\n",
    "    'Etobicoke': [\n",
    "        'Alderwood', 'Centennial Park', 'Clairville', 'Eatonville', 'Etobicoke West Mall', 'The Elms',\n",
    "        'Eringate', 'Humber Bay', 'Humber Heights – Westmount', 'Humber Valley Village', 'Humberwood',\n",
    "        'Islington–City Centre West', 'Kingsview Village', 'The Westway', 'The Kingsway', 'Long Branch',\n",
    "        'Markland Wood','Mimico','New Toronto','Princess Gardens','Rexdale','Richview','Smithfield',\n",
    "'Stonegate-Queensway','Sunnylea','Thistletown','Thorncrest Village','West Humber-Clairville',\n",
    "'West Deane Park','Willowridge',\n",
    "'Islington-City Centre West','Elms-Old Rexdale','Rexdale-Kipling','Yonge-Eglinton','Yonge-St.Clair',\n",
    "'Willowridge-Martingrove-Richview','Thistletown-Beaumond Heights','Princess-Rosethorn',\n",
    "'Mount Olive-Silverstone-Jamestown','Mimico (includes Humber Bay Shores)','Kingsway South',\n",
    "'Kingsview Village-The Westway','Humber Heights-Westmount','Humber Heights-Westmount',\n",
    "'Eringate-Centennial-West Deane','Humber Heights-Westmount','Edenbridge-Humber Valley'\n",
    "    ],\n",
    "    'North York': [\n",
    "        'Amesbury', 'Armour Heights', 'Bathurst Manor', 'Bayview Village', 'Bayview Woods-Steeles', 'Bermondsey',\n",
    "        'Black Creek', 'The Bridle Path', 'Clanton Park', 'Wilson Heights', 'Don Mills', 'Don Valley Village',\n",
    "        'Downsview', 'Flemingdon Park', 'Glen Park',  'Englemount', 'Marlee Village',\n",
    "'Henry Farm','Hillcrest Village','Hoggs Hollow','Humber Summit','Humbermede', 'Emery',\n",
    "'Jane and Finch', 'University Heights', 'Elia','Lansing','Lawrence Heights','Lawrence Manor',\n",
    "'Ledbury Park','Maple Leaf','Newtonbrook','North York City Centre','Parkway Forest','Parkwoods',\n",
    "'The Peanut','Pelmo Park', 'Humberlea','Pleasant View','Uptown Toronto','Victoria Village','Westminster–Branson',\n",
    "'Willowdale','York Mills','York University Heights', 'Village at York','Banbury-Don Mills' ,'Yorkdale-Glen Park',\n",
    "'Willowdale East','Willowdale West','Westminster-Branson','St.Andrew-Windfields','Pelmo Park-Humberlea',\n",
    "'Parkwoods-Donalda','Newtonbrook West','Newtonbrook East','Lansing-Westgate','Glenfield-Jane Heights',\n",
    "'Glenfield-Jane Heights','Englemount-Lawrence','Glenfield-Jane Heights','Willowdale West','Willowdale East',\n",
    "'Westminster-Branson','St.Andrew-Windfields','Rustic','Pelmo Park-Humberlea','Parkwoods-Donalda',\n",
    "'Bridle Path-Sunnybrook-York Mills','Brookhaven-Amesbury','Downsview-Roding-CFB'\n",
    "    ],\n",
    "    'Scarborough': [\n",
    "        'Agincourt', 'Armadale', 'Bendale', 'Cedarbrae', 'Birch Cliff', 'Birch Cliff Heights', 'Brown s Corners',\n",
    "        'Clairlea', 'Cliffside', 'Cliffcrest', 'Dorset Park', 'Eglinton East', 'Golden Mile', 'Guildwood',\n",
    "        'Highland Creek', 'Ionview', \"L'Amoreaux\" ,'Malvern','Maryvale','Milliken','Morningside','Morningside Heights','Oakridge',\n",
    "'Port Union', 'Centennial Scarborough','Rouge','Scarborough City Centre','Scarborough Junction',\n",
    "'Scarborough Village','Steeles','Tam O Shanter','Sullivan','West Hill','West Rouge','Wexford','Woburn',\n",
    "'Wexford/Maryvale','Agincourt North','Agincourt South-Malvern West','Agincourt','Agincourt North',\n",
    "'Tam OShanter-Sullivan','Kennedy Park','Birchcliffe-Cliffside','Clairlea-Birchmount'\n",
    "    ],\n",
    "    'York': [\n",
    "'Baby Point',\n",
    "'Briar Hill','Belgravia',\n",
    "'Eglinton West', 'Little Jamaica',\n",
    "'Fairbank', 'Caledonia','Fairbank',\n",
    "'Humewood–Cedarvale',  'Upper Village', 'Forest Hill',\n",
    "'Lambton',\n",
    "'Mount Dennis',\n",
    "'Oakwood–Vaughan', 'Oakwood Village', 'Five Points', 'Northcliffe',\n",
    "'Old Mill',\n",
    "'Rockcliffe–Smythe',\n",
    "'Silverthorn' ,'Keelesdale',\n",
    "'Tichester',\n",
    "'Weston',\n",
    "'Briar Hill-Belgravia',\n",
    "'Rockcliffe-Smythe',\n",
    "'High Park North','Rustic',\n",
    "'Lambton Baby Point',\n",
    "'Keelesdale-Eglinton West','Humewood-Cedarvale','Beechborough-Greenbrook','Caledonia-Fairbank'\n",
    "    ]\n",
    "}"
   ]
  },
  {
   "cell_type": "code",
   "execution_count": 12,
   "metadata": {},
   "outputs": [],
   "source": [
    "# Function to assign the neighborhood group based on the neighborhood name\n",
    "\n",
    "def assign_neighbourhood_group(neighbourhood):\n",
    "    for group, neighbourhoods in neighbourhood_groups.items():\n",
    "        if neighbourhood in neighbourhoods:\n",
    "            return group\n",
    "    return 0\n"
   ]
  },
  {
   "cell_type": "code",
   "execution_count": 13,
   "metadata": {},
   "outputs": [],
   "source": [
    "# Assign neighborhood groups to the listing dataset\n",
    "listing['neighbourhood_group'] = listing['neighbourhood'].apply(assign_neighbourhood_group)\n",
    "\n",
    "# Assign neighborhood groups to the neighborhoods dataset\n",
    "neighbourhoods['neighbourhood_group'] = neighbourhoods['neighbourhood'].apply(assign_neighbourhood_group)"
   ]
  },
  {
   "cell_type": "markdown",
   "metadata": {},
   "source": [
    "## DATA WRANGLING:"
   ]
  },
  {
   "cell_type": "markdown",
   "metadata": {},
   "source": [
    "### Neighbourhood Dataset"
   ]
  },
  {
   "cell_type": "code",
   "execution_count": 14,
   "metadata": {},
   "outputs": [
    {
     "data": {
      "text/plain": [
       "1"
      ]
     },
     "execution_count": 14,
     "metadata": {},
     "output_type": "execute_result"
    }
   ],
   "source": [
    "# Renaming the 'neighborhood_group' column to 'district'\n",
    "neighbourhoods = neighbourhoods.rename(columns={'neighbourhood_group': 'district'})\n",
    "\n",
    "# Checking for unassigned districts in the neighborhoods dataset\n",
    "neighbourhoods['district'].isin([0]).sum()"
   ]
  },
  {
   "cell_type": "code",
   "execution_count": 15,
   "metadata": {},
   "outputs": [],
   "source": [
    "# Assigning 'Scarborough' to the unassigned districts in the neighborhoods dataset\n",
    "neighbourhoods.loc[114, 'district'] = 'Scarborough'"
   ]
  },
  {
   "cell_type": "markdown",
   "metadata": {},
   "source": [
    "### Listing Dataset"
   ]
  },
  {
   "cell_type": "code",
   "execution_count": 16,
   "metadata": {},
   "outputs": [
    {
     "data": {
      "text/plain": [
       "102"
      ]
     },
     "execution_count": 16,
     "metadata": {},
     "output_type": "execute_result"
    }
   ],
   "source": [
    "# Renaming the 'neighbourhood_group' column to 'district' in both datasets\n",
    "listing = listing.rename(columns={'neighbourhood_group': 'district'})\n",
    "\n",
    "# Removing unnecessary columns from the listing dataset\n",
    "listing = listing.drop(['name', 'host_name'], axis=1)\n",
    "\n",
    "# Counting the number of unassigned districts in the listing dataset\n",
    "listing['district'].isin([0]).sum()"
   ]
  },
  {
   "cell_type": "code",
   "execution_count": 17,
   "metadata": {},
   "outputs": [
    {
     "data": {
      "text/plain": [
       "0"
      ]
     },
     "execution_count": 17,
     "metadata": {},
     "output_type": "execute_result"
    }
   ],
   "source": [
    "# Changing 0 values to NaN values in the 'district' column and filling NaN values with 'Scarborough'\n",
    "listing['district'] = listing['district'].mask(listing['district'] == 0).fillna('Scarborough')\n",
    "\n",
    "# Verifying that all districts have been assigned in the listing dataset\n",
    "listing['district'].isin([0]).sum()"
   ]
  },
  {
   "cell_type": "code",
   "execution_count": 18,
   "metadata": {},
   "outputs": [
    {
     "name": "stdout",
     "output_type": "stream",
     "text": [
      "{'minimum_nights', 'calculated_host_listings_count', 'district', 'longitude', 'number_of_reviews', 'neighbourhood', 'latitude', 'price', 'id', 'availability_365', 'host_id', 'room_type'}\n"
     ]
    }
   ],
   "source": [
    "# Printing columns without any missing values\n",
    "no_nulls = set(listing.columns[listing.isnull().mean() == 0])\n",
    "print(no_nulls)"
   ]
  },
  {
   "cell_type": "code",
   "execution_count": 19,
   "metadata": {},
   "outputs": [
    {
     "name": "stdout",
     "output_type": "stream",
     "text": [
      "0.18763089284951062\n"
     ]
    }
   ],
   "source": [
    "# Calculating the percentage of NaN values in the 'last_review' column\n",
    "nan_values = listing['last_review'].isnull().sum() / listing.shape[0]\n",
    "print(nan_values)"
   ]
  },
  {
   "cell_type": "code",
   "execution_count": 20,
   "metadata": {},
   "outputs": [],
   "source": [
    "# Filtering out listings with fewer than 2 reviews\n",
    "listing = listing[listing['number_of_reviews'] >= 2]\n",
    "\n",
    "# Creating new columns for year, month, and day from the 'last_review' column\n",
    "listing['year'] = pd.DatetimeIndex(listing['last_review']).year\n",
    "listing['month'] = pd.DatetimeIndex(listing['last_review']).month\n",
    "listing['day'] = pd.DatetimeIndex(listing['last_review']).day\n",
    "\n",
    "# Removing listings from before 2016 for better analysis\n",
    "listing = listing[listing['year'] > 2015]\n",
    "\n",
    "listing.to_csv('data/listing_etl_processed.csv')\n",
    "neighbourhoods.to_csv('data/neighbourhood_etl_processed.csv')"
   ]
  },
  {
   "cell_type": "code",
   "execution_count": null,
   "metadata": {},
   "outputs": [],
   "source": []
  },
  {
   "cell_type": "code",
   "execution_count": null,
   "metadata": {},
   "outputs": [],
   "source": []
  },
  {
   "cell_type": "markdown",
   "metadata": {},
   "source": [
    "### THE GIVEN CODE BELOW CAN BE USED AS A PIPELINE "
   ]
  },
  {
   "cell_type": "code",
   "execution_count": 21,
   "metadata": {},
   "outputs": [],
   "source": [
    "# NOTE THAT; YOU NEED TO RUN THE NEIGHBOURHOOD DICTIONARY DATA AND ASSIGN FUNCTION \n",
    "# AFTER THEN YOU CAN USE THE FUNCTIONS BELOW "
   ]
  },
  {
   "cell_type": "code",
   "execution_count": 7,
   "metadata": {},
   "outputs": [],
   "source": [
    "def fix_neighbourhood_data(neighbourhoods):\n",
    "    \n",
    "    # Renaming the 'neighbourhood_group' column to 'district'\n",
    "    neighbourhoods = neighbourhoods.rename(columns={'neighbourhood_group': 'district'})\n",
    "    \n",
    "    # Fixing the broken data in the Scarborough district\n",
    "    neighbourhoods.loc[114, 'district'] = 'Scarborough'\n",
    "\n",
    "    # Assigning 'Scarborough' to the unassigned districts in the neighborhoods dataset\n",
    "    neighbourhoods.loc[neighbourhoods['district'].isin([0]), 'district'] = 'Scarborough'\n",
    "\n",
    "    return neighbourhoods"
   ]
  },
  {
   "cell_type": "code",
   "execution_count": 8,
   "metadata": {},
   "outputs": [],
   "source": [
    "def fix_listing_data(listing):\n",
    "    \n",
    "    # Renaming the 'neighbourhood_group' column to 'district'\n",
    "    listing = listing.rename(columns={'neighbourhood_group': 'district'})\n",
    "    \n",
    "    # Changing 0 values to NaN values in the 'district' column and filling NaN values with 'Scarborough'\n",
    "    listing['district'] = listing['district'].mask(listing['district'] == 0).fillna('Scarborough')\n",
    "\n",
    "\n",
    "    # Removing unnecessary columns from the listing dataset\n",
    "    listing = listing.drop(['name', 'host_name'], axis=1)\n",
    "\n",
    "    # Filtering out listings with fewer than 2 reviews\n",
    "    listing = listing[listing['number_of_reviews'] >= 2]\n",
    "\n",
    "    # Creating new columns for year, month, and day from the 'last_review' column\n",
    "    listing['year'] = pd.DatetimeIndex(listing['last_review']).year\n",
    "    listing['month'] = pd.DatetimeIndex(listing['last_review']).month\n",
    "    listing['day'] = pd.DatetimeIndex(listing['last_review']).day\n",
    "\n",
    "    # Removing listings from before 2016 for better analysis\n",
    "    listing = listing[listing['year'] > 2015]\n",
    "\n",
    "    return listing"
   ]
  },
  {
   "cell_type": "code",
   "execution_count": null,
   "metadata": {},
   "outputs": [],
   "source": [
    "def main():\n",
    "    # Load data\n",
    "    neighbourhoods = pd.read_csv('data/neighbourhoods.csv')\n",
    "    listing = pd.read_csv('data/listing.csv')\n",
    "\n",
    "    # Extract-Transform-Load\n",
    "    neighbourhoods = fix_neighbourhood_data(neighbourhoods)\n",
    "    listing = fix_listing_data(listing)\n",
    "\n",
    "    # Save updated data\n",
    "    neighbourhoods.to_csv('neighbourhoods_etl_processed.csv', index=False)\n",
    "    listing.to_csv('listing_etl_processed.csv', index=False)"
   ]
  },
  {
   "cell_type": "code",
   "execution_count": null,
   "metadata": {},
   "outputs": [],
   "source": [
    "if __name__ == '__main__':\n",
    "    main()"
   ]
  },
  {
   "cell_type": "code",
   "execution_count": null,
   "metadata": {},
   "outputs": [],
   "source": []
  }
 ],
 "metadata": {
  "kernelspec": {
   "display_name": "Python 3 (ipykernel)",
   "language": "python",
   "name": "python3"
  },
  "language_info": {
   "codemirror_mode": {
    "name": "ipython",
    "version": 3
   },
   "file_extension": ".py",
   "mimetype": "text/x-python",
   "name": "python",
   "nbconvert_exporter": "python",
   "pygments_lexer": "ipython3",
   "version": "3.9.7"
  }
 },
 "nbformat": 4,
 "nbformat_minor": 4
}
